{
 "cells": [
  {
   "cell_type": "markdown",
   "id": "46e3cdfc-ddda-4dd4-b264-34dcb514ebbd",
   "metadata": {},
   "source": [
    "# Data Science Tools and Ecosystem"
   ]
  },
  {
   "cell_type": "markdown",
   "id": "f283f9d2-65ca-4541-bd50-4afca5dba056",
   "metadata": {},
   "source": [
    "In this notebook, Data Science Tools and Ecosystem are summarized."
   ]
  },
  {
   "cell_type": "markdown",
   "id": "fc3bb820-a2e1-4226-a711-8c209c89e720",
   "metadata": {},
   "source": [
    "**Objectives:**\n",
    "- List popular languages for Data Science\n",
    "- Popular libraries used for Data Science\n",
    "- Data Science tools\n",
    "- Examples of aritmetic operations in Jupyter Notebooks"
   ]
  },
  {
   "cell_type": "markdown",
   "id": "b0215c63-1368-4fa9-9e58-9bc731c87395",
   "metadata": {},
   "source": [
    "Some of the popular languages that Data Scientists use are:"
   ]
  },
  {
   "cell_type": "markdown",
   "id": "1b41f63d-3359-49cc-a831-ebee19fa8d6e",
   "metadata": {
    "tags": []
   },
   "source": [
    "1. Julia\n",
    "2. Python\n",
    "3. R"
   ]
  },
  {
   "cell_type": "markdown",
   "id": "ba64377b-acdb-4465-a545-aabb0ce5aa31",
   "metadata": {},
   "source": [
    "Some of the commonly used libraries used by Data Scientists include:"
   ]
  },
  {
   "cell_type": "markdown",
   "id": "ec70de30-2be1-44e8-8dfa-15ffc5885061",
   "metadata": {
    "tags": []
   },
   "source": [
    "1. Scikit-learn\n",
    "2. TensorFlow\n",
    "3. Keras\n",
    "4. PyTorch"
   ]
  },
  {
   "cell_type": "markdown",
   "id": "bb672c3a-c090-462b-8876-dcabd41d0811",
   "metadata": {},
   "source": [
    "|Data Science Tools|\n",
    "--------------------\n",
    "|JupyterLab|\n",
    "|R Studio|\n",
    "|Visual Studio Code|\n",
    "|Google Colab|"
   ]
  },
  {
   "cell_type": "markdown",
   "id": "dc46110a-01ee-4ffb-b16f-fdf178321c2d",
   "metadata": {},
   "source": [
    "### Below are a few examples of evaluating arithmetic expressions in Python"
   ]
  },
  {
   "cell_type": "code",
   "execution_count": 4,
   "id": "c82abbf6-0dfe-46a5-a28d-b48122872f85",
   "metadata": {
    "tags": []
   },
   "outputs": [
    {
     "data": {
      "text/plain": [
       "17"
      ]
     },
     "execution_count": 4,
     "metadata": {},
     "output_type": "execute_result"
    }
   ],
   "source": [
    "# This a simple arithmetic expression to mutiply then add integers\n",
    "(3*4)+5"
   ]
  },
  {
   "cell_type": "code",
   "execution_count": 5,
   "id": "e9e69d3d-debe-4882-a542-8a27db42b3cb",
   "metadata": {
    "tags": []
   },
   "outputs": [
    {
     "data": {
      "text/plain": [
       "3.33"
      ]
     },
     "execution_count": 5,
     "metadata": {},
     "output_type": "execute_result"
    }
   ],
   "source": [
    "# This will convert 200 minutes to hours by diving by 60\n",
    "round(200/60, 2)"
   ]
  },
  {
   "cell_type": "markdown",
   "id": "6dc28a83-cb1d-4866-826c-fe9c425f8af2",
   "metadata": {},
   "source": [
    "## Author:\n",
    "Jacob Sanchez Bejarano"
   ]
  },
  {
   "cell_type": "code",
   "execution_count": null,
   "id": "9e90ef4c-b80f-4e4d-8318-5a17bcd2c9e0",
   "metadata": {},
   "outputs": [],
   "source": []
  }
 ],
 "metadata": {
  "kernelspec": {
   "display_name": "Python",
   "language": "python",
   "name": "conda-env-python-py"
  },
  "language_info": {
   "codemirror_mode": {
    "name": "ipython",
    "version": 3
   },
   "file_extension": ".py",
   "mimetype": "text/x-python",
   "name": "python",
   "nbconvert_exporter": "python",
   "pygments_lexer": "ipython3",
   "version": "3.7.12"
  }
 },
 "nbformat": 4,
 "nbformat_minor": 5
}
